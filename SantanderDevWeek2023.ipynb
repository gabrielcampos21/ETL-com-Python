{
  "nbformat": 4,
  "nbformat_minor": 0,
  "metadata": {
    "colab": {
      "provenance": [],
      "collapsed_sections": [
        "kNuP0SDUZMBY"
      ],
      "include_colab_link": true
    },
    "kernelspec": {
      "name": "python3",
      "display_name": "Python 3"
    },
    "language_info": {
      "name": "python"
    }
  },
  "cells": [
    {
      "cell_type": "markdown",
      "metadata": {
        "id": "view-in-github",
        "colab_type": "text"
      },
      "source": [
        "<a href=\"https://colab.research.google.com/github/gabrielcampos21/ETL-com-Python/blob/main/SantanderDevWeek2023.ipynb\" target=\"_parent\"><img src=\"https://colab.research.google.com/assets/colab-badge.svg\" alt=\"Open In Colab\"/></a>"
      ]
    },
    {
      "cell_type": "markdown",
      "source": [
        "# Santander Dev Week 2023 (ETL com Python)"
      ],
      "metadata": {
        "id": "BPJQsTCULaC-"
      }
    },
    {
      "cell_type": "markdown",
      "source": [
        "**Contexto:** Você é um cientista de dados no Santander e recebeu a tarefa de envolver seus clientes de maneira mais personalizada. Seu objetivo é usar o poder da IA Generativa para criar mensagens de marketing personalizadas que serão entregues a cada cliente.\n",
        "\n",
        "**Condições do Problema:**\n",
        "\n",
        "1. Você recebeu uma planilha simples, em formato CSV ('SDW2023.csv'), com uma lista de IDs de usuário do banco:\n",
        "  ```\n",
        "  UserID\n",
        "  1\n",
        "  2\n",
        "  3\n",
        "  4\n",
        "  5\n",
        "  ```\n",
        "2. Seu trabalho é consumir o endpoint `GET https://sdw-2023-prd.up.railway.app/users/{id}` (API da Santander Dev Week 2023) para obter os dados de cada cliente.\n",
        "3. Depois de obter os dados dos clientes, você vai usar a API do ChatGPT (OpenAI) para gerar uma mensagem de marketing personalizada para cada cliente. Essa mensagem deve enfatizar a importância dos investimentos.\n",
        "4. Uma vez que a mensagem para cada cliente esteja pronta, você vai enviar essas informações de volta para a API, atualizando a lista de \"news\" de cada usuário usando o endpoint `PUT https://sdw-2023-prd.up.railway.app/users/{id}`.\n",
        "\n"
      ],
      "metadata": {
        "id": "k5fA5OrXt1a3"
      }
    },
    {
      "cell_type": "code",
      "source": [
        "# Utilize sua própria URL se quiser ;)\n",
        "# Repositório da API: https://github.com/digitalinnovationone/santander-dev-week-2023-api\n",
        "sdw2023_api_url = 'https://sdw-2023-prd.up.railway.app'"
      ],
      "metadata": {
        "id": "FKqLC_CWoYqR"
      },
      "execution_count": 77,
      "outputs": []
    },
    {
      "cell_type": "markdown",
      "source": [
        "## **E**xtract\n",
        "\n",
        "Extraia a lista de IDs de usuário a partir do arquivo CSV. Para cada ID, faça uma requisição GET para obter os dados do usuário correspondente."
      ],
      "metadata": {
        "id": "9dfI-o7gLRq9"
      }
    },
    {
      "cell_type": "code",
      "execution_count": 78,
      "metadata": {
        "id": "NYydpX_GLRCB",
        "colab": {
          "base_uri": "https://localhost:8080/"
        },
        "outputId": "30e95376-36f3-4352-e6b1-ce89ce538eb5"
      },
      "outputs": [
        {
          "output_type": "stream",
          "name": "stdout",
          "text": [
            "[1, 2, 3, 4, 5]\n"
          ]
        }
      ],
      "source": [
        "import pandas as pd\n",
        "\n",
        "# lista de usuários que terão mensagens personalizadas criadas\n",
        "df = pd.read_csv('SDW2023.csv')\n",
        "user_ids = df['UserID'].tolist()\n",
        "print(user_ids)"
      ]
    },
    {
      "cell_type": "code",
      "source": [
        "import requests, json\n",
        "\n",
        "users = []\n",
        "\n",
        "# função para obter dados de determinado usuario\n",
        "def get_user_data(user_id):\n",
        "  response = requests.get(f'{sdw2023_api_url}/users/{user_id}')\n",
        "  return response.json() if response.status_code == 200 else None\n",
        "\n",
        "# populando lista de usuarios com seus dados\n",
        "for user_id in user_ids:\n",
        "  data = get_user_data(user_id)\n",
        "  if data != None:\n",
        "    users.append(data)\n",
        "\n",
        "# função para salvar a lista de usuarios em um arquivo csv\n",
        "def salvar_dados(lista_de_usuarios, nome_arquivo = \"users_data.csv\"):\n",
        "  # salvando em um arquivo csv (users_data.csv)\n",
        "  users_df = pd.DataFrame(lista_de_usuarios)\n",
        "  users_df.to_csv(nome_arquivo, encoding=\"utf-8\", index=False)\n",
        "  print(f\"Dados de {len(lista_de_usuarios)} usuários foram salvos em {nome_arquivo}\")\n",
        "\n",
        "salvar_dados(users)"
      ],
      "metadata": {
        "colab": {
          "base_uri": "https://localhost:8080/"
        },
        "id": "M1oTjqrhj9w-",
        "outputId": "b2dc7ba2-b4e3-4118-ec36-522049450b72"
      },
      "execution_count": 79,
      "outputs": [
        {
          "output_type": "stream",
          "name": "stdout",
          "text": [
            "Dados de 2 usuários foram salvos em users_data.csv\n"
          ]
        }
      ]
    },
    {
      "cell_type": "markdown",
      "source": [
        "## **T**ransform\n",
        "\n",
        "Utilize a API do OpenAI GPT-4 para gerar uma mensagem de marketing personalizada para cada usuário."
      ],
      "metadata": {
        "id": "cWoqInB4TF1x"
      }
    },
    {
      "cell_type": "code",
      "source": [
        "# criar o csv com as frases, caso não exista\n",
        "\n",
        "import os\n",
        "\n",
        "arquivo_frases = \"frases.csv\"\n",
        "\n",
        "if not os.path.exists(arquivo_frases):\n",
        "  # frases geradas pelo ChatGPT\n",
        "  frases = [\n",
        "    \"Olá {user}, investir é uma maneira inteligente de construir seu futuro financeiro.\",\n",
        "    \"{user}, com investimentos adequados, você pode alcançar suas metas financeiras mais rapidamente.\",\n",
        "    \"Diversificar seus investimentos, {user}, é chave para reduzir riscos e aumentar oportunidades.\",\n",
        "    \"Seu patrimônio crescerá ao longo do tempo, {user}, quando você escolhe investir de forma estratégica.\",\n",
        "    \"Planejar o futuro é essencial, {user}, e investir faz parte desse plano para garantir estabilidade.\",\n",
        "    \"Aproveite os juros compostos, {user}, ao investir - isso significa ver seu dinheiro crescer ainda mais.\",\n",
        "    \"Para investir de maneira eficaz, é importante conhecer seu perfil de investidor, {user}.\",\n",
        "    \"Como {user} interessado em investir, você encontrará opções alinhadas às suas necessidades no mercado.\",\n",
        "    \"Fique atualizado sobre a economia, {user}, para tomar decisões informadas sobre seus investimentos.\",\n",
        "    \"Começar a investir mais cedo, {user}, dá a você a vantagem do tempo e do potencial de crescimento.\",\n",
        "    \"Lembre-se, {user}, de revisar seus investimentos periodicamente para garantir que continuem atendendo seus objetivos.\",\n",
        "    \"Olá {user}, imagine alcançar seus sonhos financeiros por meio de investimentos inteligentes.\",\n",
        "    \"{user}, investir é como plantar sementes financeiras que crescerão com o tempo.\",\n",
        "    \"Investir bem é como construir bases sólidas para a realização dos seus objetivos, {user}.\",\n",
        "    \"Com o planejamento certo, {user}, você pode garantir estabilidade financeira por meio de investimentos.\",\n",
        "    \"A estratégia de investimento certa pode transformar seus planos em realidade, {user}.\",\n",
        "    \"Lembre-se, {user}, investir não é apenas para os ricos - é uma jornada para todos que buscam crescimento financeiro.\",\n",
        "    \"Ao investir, {user}, você está tomando medidas proativas para garantir um futuro financeiro seguro.\",\n",
        "    \"Investir sabiamente, {user}, é uma expressão tangível de cuidado com o seu próprio futuro.\",\n",
        "    \"Seja o protagonista da sua jornada financeira, {user}, investindo para conquistar independência e tranquilidade.\",\n",
        "    \"{user}, suas escolhas de investimento hoje moldarão a qualidade de vida que você terá amanhã.\",\n",
        "    \"Assim como cada gota faz um oceano, cada investimento o aproxima de seus objetivos, {user}.\",\n",
        "  ]\n",
        "\n",
        "  # salvando em formato csv\n",
        "  frases_df = pd.DataFrame(frases)\n",
        "  frases_df.to_csv(\"frases.csv\", encoding=\"utf-8\", index=False)\n",
        "  print(\"Arquivo de frases criado!\")\n",
        "\n",
        "else:\n",
        "  # obter lista de frases do arquivo frases.csv, geradas pelo ChatGPT\n",
        "  # no caso do arquivo csv já existir\n",
        "  print(\"Arquivo de frases encontrado!\")\n",
        "  frases = pd.read_csv(\"frases.csv\")\n",
        "  frases = frases[\"0\"].to_list()\n",
        "\n"
      ],
      "metadata": {
        "colab": {
          "base_uri": "https://localhost:8080/"
        },
        "id": "dwTfcuz6szLv",
        "outputId": "c8e5314c-e978-4c04-c085-1005f85fe9af"
      },
      "execution_count": 80,
      "outputs": [
        {
          "output_type": "stream",
          "name": "stdout",
          "text": [
            "Arquivo de frases criado!\n"
          ]
        }
      ]
    },
    {
      "cell_type": "code",
      "source": [
        "import random\n",
        "\n",
        "# função para gerar frase com o nome do usuário\n",
        "def gerar_frase(nome_do_usuario):\n",
        "  return random.choice(frases).replace(\"{user}\", nome_do_usuario)"
      ],
      "metadata": {
        "id": "FiSkTT7kuCY7"
      },
      "execution_count": 81,
      "outputs": []
    },
    {
      "cell_type": "code",
      "source": [
        "# gerar frases personalizadas para cada usuário\n",
        "for user in users:\n",
        "  news = gerar_frase(user['name'])\n",
        "  print(f\"frase personalizada criada: {news}\")\n",
        "  user['news'].append({\n",
        "      \"icon\": \"https://digitalinnovationone.github.io/santander-dev-week-2023-api/icons/credit.svg\",\n",
        "      \"description\": news\n",
        "  })"
      ],
      "metadata": {
        "id": "n1w78kNxTrZY",
        "colab": {
          "base_uri": "https://localhost:8080/"
        },
        "outputId": "75ded5de-734b-4eb2-a511-b4108ebf5aba"
      },
      "execution_count": 82,
      "outputs": [
        {
          "output_type": "stream",
          "name": "stdout",
          "text": [
            "frase personalizada criada: Seu patrimônio crescerá ao longo do tempo, Devweekerson, quando você escolhe investir de forma estratégica.\n",
            "frase personalizada criada: Pip, com investimentos adequados, você pode alcançar suas metas financeiras mais rapidamente.\n"
          ]
        }
      ]
    },
    {
      "cell_type": "markdown",
      "source": [
        "## **L**oad\n",
        "\n",
        "Atualize a lista de \"news\" de cada usuário com a nova mensagem gerada."
      ],
      "metadata": {
        "id": "kNuP0SDUZMBY"
      }
    },
    {
      "cell_type": "code",
      "source": [
        "# salvar em arquivo csv os dados atualizados\n",
        "salvar_dados(users)"
      ],
      "metadata": {
        "id": "YefWfYBoZMN2",
        "colab": {
          "base_uri": "https://localhost:8080/"
        },
        "outputId": "17c286be-11ac-4193-c8b1-f600a7b61247"
      },
      "execution_count": 83,
      "outputs": [
        {
          "output_type": "stream",
          "name": "stdout",
          "text": [
            "Dados de 2 usuários foram salvos em users_data.csv\n"
          ]
        }
      ]
    }
  ]
}